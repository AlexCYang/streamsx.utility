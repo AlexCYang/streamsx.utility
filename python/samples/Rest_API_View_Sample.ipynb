{
 "cells": [
  {
   "cell_type": "markdown",
   "metadata": {},
   "source": [
    "# Create the config object.\n",
    "This has the same semantics as the config object in the topology toolkit. The VCAP_SERVICES config option can be one of the following:\n",
    "* A filename\n",
    "* A Python dictionary representation of VCAP SERVICES\n",
    "* A Python String representation of VCAP_SERVICES\n",
    "* Absent, in which case the VCAP_SERVICES is pulled from the `VCAP_SERVICES` environment variable as either\n",
    "    * A filename\n",
    "    * A string"
   ]
  },
  {
   "cell_type": "code",
   "execution_count": 1,
   "metadata": {
    "collapsed": false
   },
   "outputs": [],
   "source": [
    "from streamsx import rest\n",
    "config = {rest.ConfigParams.SERVICE_NAME : \"Streaming Analytics-be\",\n",
    "          rest.ConfigParams.VCAP_SERVICES : \"/tmp/vcap_services.json\"}"
   ]
  },
  {
   "cell_type": "markdown",
   "metadata": {
    "collapsed": true
   },
   "source": [
    "# Initialize the StreamsConnection\n",
    "\n",
    "The StreamsConnection can be initialized with the config object."
   ]
  },
  {
   "cell_type": "code",
   "execution_count": 2,
   "metadata": {
    "collapsed": true
   },
   "outputs": [],
   "source": [
    "strc = rest.StreamsConnection(config=config)"
   ]
  },
  {
   "cell_type": "markdown",
   "metadata": {},
   "source": [
    "If you are connecting to a local Streams install, instead of using a config object, you should pass the username, password, and REST API URL as parameters.\n",
    "```\n",
    "strc = rest.StreamsConnection(username=\"streamsadmin\", password=\"passw0rd\",\n",
    "       resource_url = \"https://streamsqse.localdomain:8443/streams/rest/resources\")\n",
    "```\n",
    "\n",
    "The `resource_url` can be obtained from the command line via `streamtool geturl --api`."
   ]
  },
  {
   "cell_type": "markdown",
   "metadata": {
    "collapsed": true
   },
   "source": [
    "# Retrieve all views across all running jobs \n",
    "\n",
    "The `get_views()` method will retrieve a list of views across all running jobs, instances, domains, and installations."
   ]
  },
  {
   "cell_type": "code",
   "execution_count": 3,
   "metadata": {
    "collapsed": false
   },
   "outputs": [
    {
     "name": "stdout",
     "output_type": "stream",
     "text": [
      "9\n"
     ]
    }
   ],
   "source": [
    "views = strc.get_views()\n",
    "print(len(views))"
   ]
  },
  {
   "cell_type": "markdown",
   "metadata": {},
   "source": [
    "Here, we've retrieved 9 views."
   ]
  },
  {
   "cell_type": "markdown",
   "metadata": {},
   "source": [
    "# Obtaining view data.\n",
    "\n",
    "To view the data on the stream, call the `start_data_fetch` method which returns a queue of data items, populated by a background thread.\n",
    "\n",
    "Data can be obtained from the view by calling `queue.get`, which blocks until data is present.\n",
    "\n",
    "To cancel the background thread and stop the population of the queue, invoke the `view.stop_data_fetch` method."
   ]
  },
  {
   "cell_type": "code",
   "execution_count": 4,
   "metadata": {
    "collapsed": false
   },
   "outputs": [
    {
     "name": "stdout",
     "output_type": "stream",
     "text": [
      "hi\n"
     ]
    }
   ],
   "source": [
    "# Get a reference to the 7th view.\n",
    "view = views[6]\n",
    "q = view.start_data_fetch()\n",
    "\n",
    "_tuple = q.get()\n",
    "print(_tuple)\n",
    "\n",
    "view.stop_data_fetch()"
   ]
  },
  {
   "cell_type": "markdown",
   "metadata": {
    "collapsed": true
   },
   "source": [
    "Here, there was one tuple \"hi\" on in the view."
   ]
  },
  {
   "cell_type": "code",
   "execution_count": null,
   "metadata": {
    "collapsed": true
   },
   "outputs": [],
   "source": []
  }
 ],
 "metadata": {
  "anaconda-cloud": {},
  "kernelspec": {
   "display_name": "Python [conda root]",
   "language": "python",
   "name": "conda-root-py"
  },
  "language_info": {
   "codemirror_mode": {
    "name": "ipython",
    "version": 3
   },
   "file_extension": ".py",
   "mimetype": "text/x-python",
   "name": "python",
   "nbconvert_exporter": "python",
   "pygments_lexer": "ipython3",
   "version": "3.5.2"
  }
 },
 "nbformat": 4,
 "nbformat_minor": 1
}
