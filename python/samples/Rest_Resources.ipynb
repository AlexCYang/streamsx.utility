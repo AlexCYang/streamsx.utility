{
 "cells": [
  {
   "cell_type": "markdown",
   "metadata": {},
   "source": [
    "### Importing The REST Client:\n",
    "\n",
    "To use the REST API, first add it to you PYTHONPATH and import it."
   ]
  },
  {
   "cell_type": "code",
   "execution_count": 1,
   "metadata": {
    "collapsed": false
   },
   "outputs": [],
   "source": [
    "import sys, os\n",
    "sys.path.insert(0, os.path.dirname(os.getcwd()) + \"/packages\")  "
   ]
  },
  {
   "cell_type": "code",
   "execution_count": 2,
   "metadata": {
    "collapsed": false
   },
   "outputs": [],
   "source": [
    "from streamsx import rest\n",
    "import json"
   ]
  },
  {
   "cell_type": "markdown",
   "metadata": {},
   "source": [
    "### The StreamsConnection\n",
    "To initialize a connection with SWS, the streams service which handles requests, initialize a *StreamsConnection* object by passing it the username and password you would use to access the console, as well as the resources url of SWS. The latter can be obtained by invoking 'streamtool geturl --api' on the command line."
   ]
  },
  {
   "cell_type": "code",
   "execution_count": 3,
   "metadata": {
    "collapsed": true
   },
   "outputs": [],
   "source": [
    "rc = rest.StreamsConnection(\"streamsadmin\", \"passw0rd\", \"https://streamsqse.localdomain:8443/streams/rest/resources\")"
   ]
  },
  {
   "cell_type": "markdown",
   "metadata": {},
   "source": [
    "### Obtaining Domain, Instance, and View Objects\n",
    "Each IBM Streams entity (a domain, instance, job, view, etc...) is represented by a corresponding Python class which contains the fields and functions of that entity. For example, we can see the fields of the domain class by retrieving a list of domains from the StreamsContext, and printing the first one to output.\n",
    "\n",
    "We can see fields like the domain id, as well as resources the domain links to such as the list of hosts."
   ]
  },
  {
   "cell_type": "code",
   "execution_count": 4,
   "metadata": {
    "collapsed": false
   },
   "outputs": [
    {
     "name": "stdout",
     "output_type": "stream",
     "text": [
      "{'activeServices': 'https://streamsqse.localdomain:8443/streams/rest/domains/StreamsDomain/activeservices',\n",
      " 'activeVersion': {'architecture': 'x86_64',\n",
      "                   'buildVersion': '20160826145017',\n",
      "                   'editionName': 'IBM Streams',\n",
      "                   'fullProductVersion': '4.2.0.0',\n",
      "                   'minimumOSBaseVersion': '6',\n",
      "                   'minimumOSPatchVersion': '6',\n",
      "                   'minimumOSVersion': 'Red Hat Enterprise Linux Server '\n",
      "                                       'release 6.6 (Santiago)',\n",
      "                   'productName': 'IBM Streams',\n",
      "                   'productVersion': '4.2.0.0'},\n",
      " 'creationTime': 1477077668611,\n",
      " 'creationUser': 'streamsadmin',\n",
      " 'hosts': 'https://streamsqse.localdomain:8443/streams/rest/domains/StreamsDomain/hosts',\n",
      " 'id': 'StreamsDomain',\n",
      " 'instances': 'https://streamsqse.localdomain:8443/streams/rest/instances',\n",
      " 'resourceAllocations': 'https://streamsqse.localdomain:8443/streams/rest/domains/StreamsDomain/resourceallocations',\n",
      " 'resourceTags': [{'definitionFormatProperties': True,\n",
      "                   'description': 'A view resource is one that can be used to '\n",
      "                                  'run the view service.',\n",
      "                   'name': 'view',\n",
      "                   'propertiesDefinition': {},\n",
      "                   'reserved': True},\n",
      "                  {'definitionFormatProperties': True,\n",
      "                   'description': 'An application resource is one that can be '\n",
      "                                  'used to run streams processing '\n",
      "                                  'applications.',\n",
      "                   'name': 'application',\n",
      "                   'propertiesDefinition': {},\n",
      "                   'reserved': True},\n",
      "                  {'definitionFormatProperties': True,\n",
      "                   'description': 'A JMX resource is one that can be used to '\n",
      "                                  'run the management API service.',\n",
      "                   'name': 'jmx',\n",
      "                   'propertiesDefinition': {},\n",
      "                   'reserved': True},\n",
      "                  {'definitionFormatProperties': True,\n",
      "                   'description': 'A management resource is one that can be '\n",
      "                                  'used to run the IBM Streams management '\n",
      "                                  'services.',\n",
      "                   'name': 'management',\n",
      "                   'propertiesDefinition': {},\n",
      "                   'reserved': True},\n",
      "                  {'definitionFormatProperties': True,\n",
      "                   'description': 'An audit resource is one that can be used '\n",
      "                                  'to run the logging service.',\n",
      "                   'name': 'audit',\n",
      "                   'propertiesDefinition': {},\n",
      "                   'reserved': True},\n",
      "                  {'definitionFormatProperties': True,\n",
      "                   'description': 'An SWS resource is one that can be used to '\n",
      "                                  'run the web management service.',\n",
      "                   'name': 'sws',\n",
      "                   'propertiesDefinition': {},\n",
      "                   'reserved': True},\n",
      "                  {'definitionFormatProperties': True,\n",
      "                   'description': 'An authentication resource is one that can '\n",
      "                                  'be used to run the service for '\n",
      "                                  'authenticating IBM Streams users.',\n",
      "                   'name': 'authentication',\n",
      "                   'propertiesDefinition': {},\n",
      "                   'reserved': True}],\n",
      " 'resourceType': 'domain',\n",
      " 'resources': 'https://streamsqse.localdomain:8443/streams/rest/domains/StreamsDomain/resources',\n",
      " 'rest_client': <streamsx.rest_primitives.StreamsRestClient object at 0x7f201850b7b8>,\n",
      " 'rest_self': 'https://streamsqse.localdomain:8443/streams/rest/domains/StreamsDomain',\n",
      " 'restid': 'StreamsDomain',\n",
      " 'status': 'running',\n",
      " 'zooKeeperConnectionString': 'streamsqse.localdomain:21810',\n",
      " 'zooKeeperEnsemble': 'https://streamsqse.localdomain:8443/streams/rest/domains/StreamsDomain/zookeeperensembles/streamsqse.localdomain%3A21810'}\n"
     ]
    }
   ],
   "source": [
    "dom = rc.get_domains()[0]\n",
    "print(dom)"
   ]
  },
  {
   "cell_type": "markdown",
   "metadata": {},
   "source": [
    "### Retrieving Streams Resources\n",
    "For each field that contains a *https* link to another resource, there is a corresponding function in the domain class to retrieve that resource. For example, the *instances* field above points to a resource containing the list of instances -- we can retrieve the list of instances by invoking *get_instances()* on the domain object:"
   ]
  },
  {
   "cell_type": "code",
   "execution_count": 5,
   "metadata": {
    "collapsed": false
   },
   "outputs": [
    {
     "name": "stdout",
     "output_type": "stream",
     "text": [
      "[<streamsx.rest_primitives.Instance object at 0x7f2018529208>]\n"
     ]
    }
   ],
   "source": [
    "instances = dom.get_instances()\n",
    "print(instances)"
   ]
  },
  {
   "cell_type": "markdown",
   "metadata": {},
   "source": [
    "### Obtaining Views From Instances\n",
    "Each instance maintains a list of views within that instance. Similar to how the list of instances was retrieved, the list list of views can be obtained by calling *get_views()*"
   ]
  },
  {
   "cell_type": "code",
   "execution_count": 6,
   "metadata": {
    "collapsed": false,
    "scrolled": true
   },
   "outputs": [],
   "source": [
    "inst = instances[0]\n",
    "view = inst.get_views()[0]"
   ]
  },
  {
   "cell_type": "markdown",
   "metadata": {},
   "source": [
    "### View Items\n",
    "Each view maintains a list of view-items (the tuples). The view-items list is updated and returned every time get_view_items is called. \n",
    "\n",
    "The types of the view-items is retrieved by invoking the *view.attributes()* method."
   ]
  },
  {
   "cell_type": "code",
   "execution_count": 7,
   "metadata": {
    "collapsed": false
   },
   "outputs": [
    {
     "name": "stdout",
     "output_type": "stream",
     "text": [
      "[{'type': 'rstring', 'name': 'jsonString'}]\n",
      "0\n"
     ]
    }
   ],
   "source": [
    "itms = view.get_view_items()\n",
    "print(view.attributes)\n",
    "print(len(itms))"
   ]
  },
  {
   "cell_type": "code",
   "execution_count": null,
   "metadata": {
    "collapsed": true
   },
   "outputs": [],
   "source": []
  }
 ],
 "metadata": {
  "anaconda-cloud": {},
  "kernelspec": {
   "display_name": "Python [default]",
   "language": "python",
   "name": "python3"
  },
  "language_info": {
   "codemirror_mode": {
    "name": "ipython",
    "version": 3
   },
   "file_extension": ".py",
   "mimetype": "text/x-python",
   "name": "python",
   "nbconvert_exporter": "python",
   "pygments_lexer": "ipython3",
   "version": "3.5.2"
  }
 },
 "nbformat": 4,
 "nbformat_minor": 0
}
